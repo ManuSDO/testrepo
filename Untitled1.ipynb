{
 "cells": [
  {
   "cell_type": "code",
   "execution_count": 2,
   "id": "ada19445-8c96-46d6-98b9-e4bd74efa182",
   "metadata": {},
   "outputs": [
    {
     "name": "stdout",
     "output_type": "stream",
     "text": [
      "hello\n"
     ]
    }
   ],
   "source": [
    "print(\"hello\")"
   ]
  },
  {
   "cell_type": "code",
   "execution_count": 3,
   "id": "305d0b36-abcd-4e49-aefc-7e9266f76d30",
   "metadata": {},
   "outputs": [
    {
     "name": "stdout",
     "output_type": "stream",
     "text": [
      "ready\n"
     ]
    }
   ],
   "source": [
    "print(\"ready\")"
   ]
  },
  {
   "cell_type": "code",
   "execution_count": 4,
   "id": "bf56a93c-a5b5-40d9-b69f-e9fc1a5cc645",
   "metadata": {},
   "outputs": [
    {
     "data": {
      "text/plain": [
       "2"
      ]
     },
     "execution_count": 4,
     "metadata": {},
     "output_type": "execute_result"
    }
   ],
   "source": [
    "1+1"
   ]
  },
  {
   "cell_type": "markdown",
   "id": "9ee48141-65a6-43fb-bae4-22600a6bf565",
   "metadata": {
    "tags": []
   },
   "source": [
    "3*6"
   ]
  },
  {
   "cell_type": "markdown",
   "id": "93e520ba-0e12-412a-bf2e-ba4f8f333a42",
   "metadata": {},
   "source": [
    "ASDFASDFASDF"
   ]
  },
  {
   "cell_type": "markdown",
   "id": "6777708f-e782-427b-85c2-6f5a86129634",
   "metadata": {},
   "source": []
  },
  {
   "cell_type": "code",
   "execution_count": null,
   "id": "3edfa233-6a59-4be4-9ffe-954dd8b61646",
   "metadata": {},
   "outputs": [],
   "source": []
  },
  {
   "cell_type": "markdown",
   "id": "a66e4a86-103e-4b9c-ac51-82993cf62c44",
   "metadata": {},
   "source": [
    "x = 2\n",
    "y = 4\n",
    "print(x+y)"
   ]
  },
  {
   "cell_type": "markdown",
   "id": "1b2bbc92-83a9-40fa-a2cc-8dce49326569",
   "metadata": {},
   "source": []
  },
  {
   "cell_type": "markdown",
   "id": "c2ac1a53-c283-4dad-8526-46c00529a5e1",
   "metadata": {},
   "source": []
  },
  {
   "cell_type": "markdown",
   "id": "218a598c-1497-487f-b6ce-cdd7e583845e",
   "metadata": {},
   "source": []
  },
  {
   "cell_type": "markdown",
   "id": "09fc91f1-e6e7-460e-ac72-371128fd4eb0",
   "metadata": {},
   "source": []
  }
 ],
 "metadata": {
  "kernelspec": {
   "display_name": "Python",
   "language": "python",
   "name": "conda-env-python-py"
  },
  "language_info": {
   "codemirror_mode": {
    "name": "ipython",
    "version": 3
   },
   "file_extension": ".py",
   "mimetype": "text/x-python",
   "name": "python",
   "nbconvert_exporter": "python",
   "pygments_lexer": "ipython3",
   "version": "3.6.13"
  }
 },
 "nbformat": 4,
 "nbformat_minor": 5
}
